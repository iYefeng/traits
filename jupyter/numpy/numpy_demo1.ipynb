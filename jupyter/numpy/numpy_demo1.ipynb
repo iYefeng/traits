{
 "cells": [
  {
   "cell_type": "code",
   "execution_count": 2,
   "metadata": {
    "collapsed": true
   },
   "outputs": [],
   "source": [
    "%matplotlib inline\n",
    "import numpy as np\n",
    "import pandas as pd\n",
    "import matplotlib.pyplot as plt\n",
    "\n",
    "arr = np.arange(10)"
   ]
  },
  {
   "cell_type": "code",
   "execution_count": 4,
   "metadata": {
    "collapsed": false
   },
   "outputs": [
    {
     "data": {
      "text/plain": [
       "array([ 0,  1,  4,  9, 16, 25, 36, 49, 64, 81])"
      ]
     },
     "execution_count": 4,
     "metadata": {},
     "output_type": "execute_result"
    }
   ],
   "source": [
    "arr**2"
   ]
  },
  {
   "cell_type": "code",
   "execution_count": 5,
   "metadata": {
    "collapsed": false
   },
   "outputs": [
    {
     "data": {
      "text/plain": [
       "array([5, 6, 7])"
      ]
     },
     "execution_count": 5,
     "metadata": {},
     "output_type": "execute_result"
    }
   ],
   "source": [
    "arr[5:8]"
   ]
  },
  {
   "cell_type": "code",
   "execution_count": 6,
   "metadata": {
    "collapsed": true
   },
   "outputs": [],
   "source": [
    "arr[5:8] = 12"
   ]
  },
  {
   "cell_type": "code",
   "execution_count": 7,
   "metadata": {
    "collapsed": false
   },
   "outputs": [
    {
     "data": {
      "text/plain": [
       "array([ 0,  1,  2,  3,  4, 12, 12, 12,  8,  9])"
      ]
     },
     "execution_count": 7,
     "metadata": {},
     "output_type": "execute_result"
    }
   ],
   "source": [
    "arr"
   ]
  },
  {
   "cell_type": "code",
   "execution_count": 8,
   "metadata": {
    "collapsed": true
   },
   "outputs": [],
   "source": [
    "arr2d = np.array([[1, 2, 3], [4, 5, 6], [7, 8, 9]])"
   ]
  },
  {
   "cell_type": "code",
   "execution_count": 10,
   "metadata": {
    "collapsed": false
   },
   "outputs": [
    {
     "data": {
      "text/plain": [
       "7"
      ]
     },
     "execution_count": 10,
     "metadata": {},
     "output_type": "execute_result"
    }
   ],
   "source": [
    "arr2d[2,0]"
   ]
  },
  {
   "cell_type": "code",
   "execution_count": 19,
   "metadata": {
    "collapsed": false
   },
   "outputs": [],
   "source": [
    "names = np.array(['Bob', 'Joe', 'Will', 'Bob', 'Will', 'Joe', 'Joe'])\n"
   ]
  },
  {
   "cell_type": "code",
   "execution_count": 21,
   "metadata": {
    "collapsed": false
   },
   "outputs": [
    {
     "name": "stdout",
     "output_type": "stream",
     "text": [
      "[[-2.23646038 -2.02401114  0.16492453 -0.62095338]\n",
      " [ 2.24554662  1.915345   -1.40304396  0.65041308]\n",
      " [ 0.0298092  -0.5287524  -1.51751606 -1.28582984]\n",
      " [-0.29866437  0.78302032 -0.69468364  0.1452217 ]\n",
      " [ 0.28560507 -0.62355834 -1.83768454  0.5128036 ]\n",
      " [ 1.4109274   0.57831034  0.35147071 -0.4190572 ]\n",
      " [ 0.04061695  1.94958308  1.00748703 -0.26016986]]\n",
      "[[ 0.          0.          0.          0.        ]\n",
      " [ 2.24554662  1.915345   -1.40304396  0.65041308]\n",
      " [ 0.0298092  -0.5287524  -1.51751606 -1.28582984]\n",
      " [ 0.          0.          0.          0.        ]\n",
      " [ 0.28560507 -0.62355834 -1.83768454  0.5128036 ]\n",
      " [ 1.4109274   0.57831034  0.35147071 -0.4190572 ]\n",
      " [ 0.04061695  1.94958308  1.00748703 -0.26016986]]\n"
     ]
    }
   ],
   "source": [
    "data = np.random.randn(7, 4)\n",
    "print data\n",
    "data[names == 'Bob'] = 0\n",
    "print data"
   ]
  },
  {
   "cell_type": "code",
   "execution_count": 16,
   "metadata": {
    "collapsed": false
   },
   "outputs": [
    {
     "data": {
      "text/plain": [
       "array([[-0.09350093, -0.50701636,  0.42610357, -0.42817503],\n",
       "       [ 0.4373933 , -0.37367311, -0.05667836, -0.49484897]])"
      ]
     },
     "execution_count": 16,
     "metadata": {},
     "output_type": "execute_result"
    }
   ],
   "source": []
  },
  {
   "cell_type": "code",
   "execution_count": 17,
   "metadata": {
    "collapsed": false
   },
   "outputs": [
    {
     "data": {
      "text/plain": [
       "array([ True, False, False,  True, False, False, False], dtype=bool)"
      ]
     },
     "execution_count": 17,
     "metadata": {},
     "output_type": "execute_result"
    }
   ],
   "source": [
    "names == 'Bob'"
   ]
  },
  {
   "cell_type": "code",
   "execution_count": 4,
   "metadata": {
    "collapsed": false
   },
   "outputs": [],
   "source": [
    "points = np.arange(-5, 5, 0.01)\n",
    "xs, ys = np.meshgrid(points, points)"
   ]
  },
  {
   "cell_type": "code",
   "execution_count": 5,
   "metadata": {
    "collapsed": false
   },
   "outputs": [
    {
     "data": {
      "text/plain": [
       "array([[-5.  , -5.  , -5.  , ..., -5.  , -5.  , -5.  ],\n",
       "       [-4.99, -4.99, -4.99, ..., -4.99, -4.99, -4.99],\n",
       "       [-4.98, -4.98, -4.98, ..., -4.98, -4.98, -4.98],\n",
       "       ..., \n",
       "       [ 4.97,  4.97,  4.97, ...,  4.97,  4.97,  4.97],\n",
       "       [ 4.98,  4.98,  4.98, ...,  4.98,  4.98,  4.98],\n",
       "       [ 4.99,  4.99,  4.99, ...,  4.99,  4.99,  4.99]])"
      ]
     },
     "execution_count": 5,
     "metadata": {},
     "output_type": "execute_result"
    }
   ],
   "source": [
    "ys"
   ]
  },
  {
   "cell_type": "code",
   "execution_count": 6,
   "metadata": {
    "collapsed": false
   },
   "outputs": [
    {
     "data": {
      "text/plain": [
       "array([[-5.  , -4.99, -4.98, ...,  4.97,  4.98,  4.99],\n",
       "       [-5.  , -4.99, -4.98, ...,  4.97,  4.98,  4.99],\n",
       "       [-5.  , -4.99, -4.98, ...,  4.97,  4.98,  4.99],\n",
       "       ..., \n",
       "       [-5.  , -4.99, -4.98, ...,  4.97,  4.98,  4.99],\n",
       "       [-5.  , -4.99, -4.98, ...,  4.97,  4.98,  4.99],\n",
       "       [-5.  , -4.99, -4.98, ...,  4.97,  4.98,  4.99]])"
      ]
     },
     "execution_count": 6,
     "metadata": {},
     "output_type": "execute_result"
    }
   ],
   "source": [
    "xs"
   ]
  },
  {
   "cell_type": "code",
   "execution_count": 7,
   "metadata": {
    "collapsed": true
   },
   "outputs": [],
   "source": [
    "z = np.sqrt(xs ** 2 + ys ** 2)"
   ]
  },
  {
   "cell_type": "code",
   "execution_count": 8,
   "metadata": {
    "collapsed": false
   },
   "outputs": [
    {
     "data": {
      "text/plain": [
       "<matplotlib.colorbar.Colorbar at 0x7f0a891e1810>"
      ]
     },
     "execution_count": 8,
     "metadata": {},
     "output_type": "execute_result"
    },
    {
     "data": {
      "image/png": "[encoded data removed]",
      "text/plain": [
       "<matplotlib.figure.Figure at 0x7f0a892a7910>"
      ]
     },
     "metadata": {},
     "output_type": "display_data"
    }
   ],
   "source": [
    "plt.imshow(z, cmap=plt.cm.gray); plt.colorbar()"
   ]
  },
  {
   "cell_type": "code",
   "execution_count": 9,
   "metadata": {
    "collapsed": true
   },
   "outputs": [],
   "source": [
    "nsteps = 1000\n",
    "draws = np.random.randint(0, 2, size=nsteps)"
   ]
  },
  {
   "cell_type": "code",
   "execution_count": 14,
   "metadata": {
    "collapsed": false
   },
   "outputs": [
    {
     "name": "stdout",
     "output_type": "stream",
     "text": [
      "[0 0 1 1 0 0 0 1 1 1 0 0 0 1 1 0 0 1 1 1 1 1 1 0 1 1 0 0 0 1 1 0 1 0 1 1 0\n",
      " 1 1 1 0 0 0 0 0 0 1 1 0 0 0 1 0 0 1 1 0 1 0 0 1 1 0 0 1 1 0 1 1 1 0 0 1 0\n",
      " 1 0 0 0 1 1 0 1 0 1 0 1 1 1 0 0 0 1 1 0 1 0 0 0 1 0 0 0 1 0 1 0 1 0 0 0 0\n",
      " 1 1 1 0 1 0 0 1 0 1 1 1 0 0 0 1 0 0 1 0 0 0 0 0 1 0 1 1 1 1 1 1 0 0 0 0 1\n",
      " 0 1 1 1 0 1 0 1 0 1 0 1 0 1 0 0 0 0 0 0 0 1 1 0 1 1 0 1 1 1 0 0 1 1 0 1 0\n",
      " 1 1 1 1 1 0 1 0 1 0 1 0 0 1 1 0 0 1 0 1 0 1 0 1 1 1 1 0 0 1 0 0 0 1 1 0 1\n",
      " 1 1 0 0 1 0 0 0 1 1 1 0 0 0 0 0 0 0 0 1 0 0 1 0 1 0 0 1 0 1 0 1 0 0 1 0 1\n",
      " 1 0 0 0 1 0 1 0 0 0 0 0 1 1 0 0 1 1 1 0 0 0 0 1 0 0 0 1 0 1 1 0 1 0 1 1 0\n",
      " 0 0 1 1 1 0 0 0 1 0 0 0 1 1 0 0 1 0 1 1 0 1 1 0 0 1 0 1 0 0 0 1 0 1 0 1 1\n",
      " 1 0 0 0 1 0 1 0 0 0 1 0 0 1 0 1 1 0 0 1 1 0 0 1 0 0 1 0 1 0 1 1 0 0 0 0 0\n",
      " 1 0 0 1 0 0 0 1 0 1 0 1 0 1 1 0 1 1 0 1 1 1 1 1 1 0 1 1 0 1 1 1 1 1 0 0 1\n",
      " 0 1 1 1 1 0 1 1 1 0 0 1 0 1 0 0 0 0 0 0 0 0 0 1 0 0 1 1 0 0 1 0 0 1 0 0 0\n",
      " 1 1 0 0 1 1 1 1 0 0 1 1 1 0 1 0 0 0 0 0 1 0 1 0 1 0 1 0 1 1 1 1 1 1 0 0 1\n",
      " 0 1 0 0 0 0 0 0 0 1 0 0 1 0 1 1 0 0 0 0 0 0 1 1 0 1 1 1 0 0 1 0 1 1 1 1 0\n",
      " 0 1 0 1 1 0 0 0 1 1 0 0 1 1 1 0 1 0 0 0 1 1 0 0 1 0 0 1 1 1 0 0 0 1 1 1 0\n",
      " 1 1 0 1 0 1 0 1 0 1 0 1 0 1 0 1 1 0 1 0 1 0 0 0 1 0 1 0 0 0 0 0 0 0 1 1 1\n",
      " 0 1 0 0 1 1 1 1 0 0 1 1 0 1 1 1 0 1 1 0 0 1 1 1 0 1 1 1 0 1 1 0 1 0 1 0 0\n",
      " 0 0 1 1 1 1 1 1 0 0 1 1 0 0 0 1 1 0 0 0 1 1 1 0 0 0 0 0 1 1 1 1 1 0 0 0 0\n",
      " 0 0 1 0 0 0 1 1 0 0 1 0 0 0 1 0 1 1 1 1 1 0 1 1 0 1 0 1 1 0 0 1 1 0 0 1 0\n",
      " 1 1 1 0 1 0 1 0 0 1 1 0 0 1 0 1 0 0 0 0 0 1 0 0 0 0 0 1 0 1 1 0 1 1 0 1 1\n",
      " 0 1 1 0 0 0 0 0 1 0 1 0 1 0 0 0 1 1 0 0 1 1 1 1 1 0 0 0 1 0 0 0 1 0 0 1 0\n",
      " 0 0 0 1 1 0 1 0 1 1 1 1 1 1 0 0 1 0 1 1 0 1 0 1 0 0 1 1 0 0 1 1 0 0 1 0 0\n",
      " 0 1 0 0 1 0 0 1 0 1 1 0 1 0 0 1 1 0 0 0 0 1 0 0 1 1 0 1 0 1 1 1 1 0 1 0 1\n",
      " 0 0 1 0 1 1 1 1 1 0 1 1 0 1 1 1 1 1 1 0 1 1 0 1 0 0 0 0 1 0 1 1 0 0 1 0 1\n",
      " 1 1 1 0 0 0 1 0 0 0 1 1 1 1 1 1 0 0 0 0 1 0 0 1 0 1 0 0 0 0 0 1 1 0 0 1 0\n",
      " 0 1 0 1 1 0 0 0 1 0 0 1 1 1 0 1 1 1 0 0 1 1 1 0 1 0 1 1 1 0 1 1 1 1 1 1 0\n",
      " 1 1 1 1 0 0 0 1 0 0 0 1 0 0 1 0 1 0 1 1 1 1 1 0 1 1 1 0 0 1 0 0 1 1 0 0 0\n",
      " 0]\n"
     ]
    }
   ],
   "source": [
    "print draws"
   ]
  },
  {
   "cell_type": "code",
   "execution_count": 13,
   "metadata": {
    "collapsed": false
   },
   "outputs": [
    {
     "data": {
      "text/plain": [
       "17"
      ]
     },
     "execution_count": 13,
     "metadata": {},
     "output_type": "execute_result"
    }
   ],
   "source": [
    "np.random.randint(0, 20)"
   ]
  },
  {
   "cell_type": "code",
   "execution_count": 15,
   "metadata": {
    "collapsed": false
   },
   "outputs": [
    {
     "name": "stdout",
     "output_type": "stream",
     "text": [
      "[-1 -1  1  1 -1 -1 -1  1  1  1 -1 -1 -1  1  1 -1 -1  1  1  1  1  1  1 -1  1\n",
      "  1 -1 -1 -1  1  1 -1  1 -1  1  1 -1  1  1  1 -1 -1 -1 -1 -1 -1  1  1 -1 -1\n",
      " -1  1 -1 -1  1  1 -1  1 -1 -1  1  1 -1 -1  1  1 -1  1  1  1 -1 -1  1 -1  1\n",
      " -1 -1 -1  1  1 -1  1 -1  1 -1  1  1  1 -1 -1 -1  1  1 -1  1 -1 -1 -1  1 -1\n",
      " -1 -1  1 -1  1 -1  1 -1 -1 -1 -1  1  1  1 -1  1 -1 -1  1 -1  1  1  1 -1 -1\n",
      " -1  1 -1 -1  1 -1 -1 -1 -1 -1  1 -1  1  1  1  1  1  1 -1 -1 -1 -1  1 -1  1\n",
      "  1  1 -1  1 -1  1 -1  1 -1  1 -1  1 -1 -1 -1 -1 -1 -1 -1  1  1 -1  1  1 -1\n",
      "  1  1  1 -1 -1  1  1 -1  1 -1  1  1  1  1  1 -1  1 -1  1 -1  1 -1 -1  1  1\n",
      " -1 -1  1 -1  1 -1  1 -1  1  1  1  1 -1 -1  1 -1 -1 -1  1  1 -1  1  1  1 -1\n",
      " -1  1 -1 -1 -1  1  1  1 -1 -1 -1 -1 -1 -1 -1 -1  1 -1 -1  1 -1  1 -1 -1  1\n",
      " -1  1 -1  1 -1 -1  1 -1  1  1 -1 -1 -1  1 -1  1 -1 -1 -1 -1 -1  1  1 -1 -1\n",
      "  1  1  1 -1 -1 -1 -1  1 -1 -1 -1  1 -1  1  1 -1  1 -1  1  1 -1 -1 -1  1  1\n",
      "  1 -1 -1 -1  1 -1 -1 -1  1  1 -1 -1  1 -1  1  1 -1  1  1 -1 -1  1 -1  1 -1\n",
      " -1 -1  1 -1  1 -1  1  1  1 -1 -1 -1  1 -1  1 -1 -1 -1  1 -1 -1  1 -1  1  1\n",
      " -1 -1  1  1 -1 -1  1 -1 -1  1 -1  1 -1  1  1 -1 -1 -1 -1 -1  1 -1 -1  1 -1\n",
      " -1 -1  1 -1  1 -1  1 -1  1  1 -1  1  1 -1  1  1  1  1  1  1 -1  1  1 -1  1\n",
      "  1  1  1  1 -1 -1  1 -1  1  1  1  1 -1  1  1  1 -1 -1  1 -1  1 -1 -1 -1 -1\n",
      " -1 -1 -1 -1 -1  1 -1 -1  1  1 -1 -1  1 -1 -1  1 -1 -1 -1  1  1 -1 -1  1  1\n",
      "  1  1 -1 -1  1  1  1 -1  1 -1 -1 -1 -1 -1  1 -1  1 -1  1 -1  1 -1  1  1  1\n",
      "  1  1  1 -1 -1  1 -1  1 -1 -1 -1 -1 -1 -1 -1  1 -1 -1  1 -1  1  1 -1 -1 -1\n",
      " -1 -1 -1  1  1 -1  1  1  1 -1 -1  1 -1  1  1  1  1 -1 -1  1 -1  1  1 -1 -1\n",
      " -1  1  1 -1 -1  1  1  1 -1  1 -1 -1 -1  1  1 -1 -1  1 -1 -1  1  1  1 -1 -1\n",
      " -1  1  1  1 -1  1  1 -1  1 -1  1 -1  1 -1  1 -1  1 -1  1 -1  1  1 -1  1 -1\n",
      "  1 -1 -1 -1  1 -1  1 -1 -1 -1 -1 -1 -1 -1  1  1  1 -1  1 -1 -1  1  1  1  1\n",
      " -1 -1  1  1 -1  1  1  1 -1  1  1 -1 -1  1  1  1 -1  1  1  1 -1  1  1 -1  1\n",
      " -1  1 -1 -1 -1 -1  1  1  1  1  1  1 -1 -1  1  1 -1 -1 -1  1  1 -1 -1 -1  1\n",
      "  1  1 -1 -1 -1 -1 -1  1  1  1  1  1 -1 -1 -1 -1 -1 -1  1 -1 -1 -1  1  1 -1\n",
      " -1  1 -1 -1 -1  1 -1  1  1  1  1  1 -1  1  1 -1  1 -1  1  1 -1 -1  1  1 -1\n",
      " -1  1 -1  1  1  1 -1  1 -1  1 -1 -1  1  1 -1 -1  1 -1  1 -1 -1 -1 -1 -1  1\n",
      " -1 -1 -1 -1 -1  1 -1  1  1 -1  1  1 -1  1  1 -1  1  1 -1 -1 -1 -1 -1  1 -1\n",
      "  1 -1  1 -1 -1 -1  1  1 -1 -1  1  1  1  1  1 -1 -1 -1  1 -1 -1 -1  1 -1 -1\n",
      "  1 -1 -1 -1 -1  1  1 -1  1 -1  1  1  1  1  1  1 -1 -1  1 -1  1  1 -1  1 -1\n",
      "  1 -1 -1  1  1 -1 -1  1  1 -1 -1  1 -1 -1 -1  1 -1 -1  1 -1 -1  1 -1  1  1\n",
      " -1  1 -1 -1  1  1 -1 -1 -1 -1  1 -1 -1  1  1 -1  1 -1  1  1  1  1 -1  1 -1\n",
      "  1 -1 -1  1 -1  1  1  1  1  1 -1  1  1 -1  1  1  1  1  1  1 -1  1  1 -1  1\n",
      " -1 -1 -1 -1  1 -1  1  1 -1 -1  1 -1  1  1  1  1 -1 -1 -1  1 -1 -1 -1  1  1\n",
      "  1  1  1  1 -1 -1 -1 -1  1 -1 -1  1 -1  1 -1 -1 -1 -1 -1  1  1 -1 -1  1 -1\n",
      " -1  1 -1  1  1 -1 -1 -1  1 -1 -1  1  1  1 -1  1  1  1 -1 -1  1  1  1 -1  1\n",
      " -1  1  1  1 -1  1  1  1  1  1  1 -1  1  1  1  1 -1 -1 -1  1 -1 -1 -1  1 -1\n",
      " -1  1 -1  1 -1  1  1  1  1  1 -1  1  1  1 -1 -1  1 -1 -1  1  1 -1 -1 -1 -1]\n"
     ]
    }
   ],
   "source": [
    "steps = np.where(draws > 0, 1, -1)\n",
    "print steps"
   ]
  },
  {
   "cell_type": "code",
   "execution_count": 16,
   "metadata": {
    "collapsed": false
   },
   "outputs": [
    {
     "name": "stdout",
     "output_type": "stream",
     "text": [
      "[ -1  -2  -1   0  -1  -2  -3  -2  -1   0  -1  -2  -3  -2  -1  -2  -3  -2\n",
      "  -1   0   1   2   3   2   3   4   3   2   1   2   3   2   3   2   3   4\n",
      "   3   4   5   6   5   4   3   2   1   0   1   2   1   0  -1   0  -1  -2\n",
      "  -1   0  -1   0  -1  -2  -1   0  -1  -2  -1   0  -1   0   1   2   1   0\n",
      "   1   0   1   0  -1  -2  -1   0  -1   0  -1   0  -1   0   1   2   1   0\n",
      "  -1   0   1   0   1   0  -1  -2  -1  -2  -3  -4  -3  -4  -3  -4  -3  -4\n",
      "  -5  -6  -7  -6  -5  -4  -5  -4  -5  -6  -5  -6  -5  -4  -3  -4  -5  -6\n",
      "  -5  -6  -7  -6  -7  -8  -9 -10 -11 -10 -11 -10  -9  -8  -7  -6  -5  -6\n",
      "  -7  -8  -9  -8  -9  -8  -7  -6  -7  -6  -7  -6  -7  -6  -7  -6  -7  -6\n",
      "  -7  -8  -9 -10 -11 -12 -13 -12 -11 -12 -11 -10 -11 -10  -9  -8  -9 -10\n",
      "  -9  -8  -9  -8  -9  -8  -7  -6  -5  -4  -5  -4  -5  -4  -5  -4  -5  -6\n",
      "  -5  -4  -5  -6  -5  -6  -5  -6  -5  -6  -5  -4  -3  -2  -3  -4  -3  -4\n",
      "  -5  -6  -5  -4  -5  -4  -3  -2  -3  -4  -3  -4  -5  -6  -5  -4  -3  -4\n",
      "  -5  -6  -7  -8  -9 -10 -11 -10 -11 -12 -11 -12 -11 -12 -13 -12 -13 -12\n",
      " -13 -12 -13 -14 -13 -14 -13 -12 -13 -14 -15 -14 -15 -14 -15 -16 -17 -18\n",
      " -19 -18 -17 -18 -19 -18 -17 -16 -17 -18 -19 -20 -19 -20 -21 -22 -21 -22\n",
      " -21 -20 -21 -20 -21 -20 -19 -20 -21 -22 -21 -20 -19 -20 -21 -22 -21 -22\n",
      " -23 -24 -23 -22 -23 -24 -23 -24 -23 -22 -23 -22 -21 -22 -23 -22 -23 -22\n",
      " -23 -24 -25 -24 -25 -24 -25 -24 -23 -22 -23 -24 -25 -24 -25 -24 -25 -26\n",
      " -27 -26 -27 -28 -27 -28 -27 -26 -27 -28 -27 -26 -27 -28 -27 -28 -29 -28\n",
      " -29 -28 -29 -28 -27 -28 -29 -30 -31 -32 -31 -32 -33 -32 -33 -34 -35 -34\n",
      " -35 -34 -35 -34 -35 -34 -33 -34 -33 -32 -33 -32 -31 -30 -29 -28 -27 -28\n",
      " -27 -26 -27 -26 -25 -24 -23 -22 -23 -24 -23 -24 -23 -22 -21 -20 -21 -20\n",
      " -19 -18 -19 -20 -19 -20 -19 -20 -21 -22 -23 -24 -25 -26 -27 -28 -27 -28\n",
      " -29 -28 -27 -28 -29 -28 -29 -30 -29 -30 -31 -32 -31 -30 -31 -32 -31 -30\n",
      " -29 -28 -29 -30 -29 -28 -27 -28 -27 -28 -29 -30 -31 -32 -31 -32 -31 -32\n",
      " -31 -32 -31 -32 -31 -30 -29 -28 -27 -26 -27 -28 -27 -28 -27 -28 -29 -30\n",
      " -31 -32 -33 -34 -33 -34 -35 -34 -35 -34 -33 -34 -35 -36 -37 -38 -39 -38\n",
      " -37 -38 -37 -36 -35 -36 -37 -36 -37 -36 -35 -34 -33 -34 -35 -34 -35 -34\n",
      " -33 -34 -35 -36 -35 -34 -35 -36 -35 -34 -33 -34 -33 -34 -35 -36 -35 -34\n",
      " -35 -36 -35 -36 -37 -36 -35 -34 -35 -36 -37 -36 -35 -34 -35 -34 -33 -34\n",
      " -33 -34 -33 -34 -33 -34 -33 -34 -33 -34 -33 -34 -33 -32 -33 -32 -33 -32\n",
      " -33 -34 -35 -34 -35 -34 -35 -36 -37 -38 -39 -40 -41 -40 -39 -38 -39 -38\n",
      " -39 -40 -39 -38 -37 -36 -37 -38 -37 -36 -37 -36 -35 -34 -35 -34 -33 -34\n",
      " -35 -34 -33 -32 -33 -32 -31 -30 -31 -30 -29 -30 -29 -30 -29 -30 -31 -32\n",
      " -33 -32 -31 -30 -29 -28 -27 -28 -29 -28 -27 -28 -29 -30 -29 -28 -29 -30\n",
      " -31 -30 -29 -28 -29 -30 -31 -32 -33 -32 -31 -30 -29 -28 -29 -30 -31 -32\n",
      " -33 -34 -33 -34 -35 -36 -35 -34 -35 -36 -35 -36 -37 -38 -37 -38 -37 -36\n",
      " -35 -34 -33 -34 -33 -32 -33 -32 -33 -32 -31 -32 -33 -32 -31 -32 -33 -32\n",
      " -33 -32 -31 -30 -31 -30 -31 -30 -31 -32 -31 -30 -31 -32 -31 -32 -31 -32\n",
      " -33 -34 -35 -36 -35 -36 -37 -38 -39 -40 -39 -40 -39 -38 -39 -38 -37 -38\n",
      " -37 -36 -37 -36 -35 -36 -37 -38 -39 -40 -39 -40 -39 -40 -39 -40 -41 -42\n",
      " -41 -40 -41 -42 -41 -40 -39 -38 -37 -38 -39 -40 -39 -40 -41 -42 -41 -42\n",
      " -43 -42 -43 -44 -45 -46 -45 -44 -45 -44 -45 -44 -43 -42 -41 -40 -39 -40\n",
      " -41 -40 -41 -40 -39 -40 -39 -40 -39 -40 -41 -40 -39 -40 -41 -40 -39 -40\n",
      " -41 -40 -41 -42 -43 -42 -43 -44 -43 -44 -45 -44 -45 -44 -43 -44 -43 -44\n",
      " -45 -44 -43 -44 -45 -46 -47 -46 -47 -48 -47 -46 -47 -46 -47 -46 -45 -44\n",
      " -43 -44 -43 -44 -43 -44 -45 -44 -45 -44 -43 -42 -41 -40 -41 -40 -39 -40\n",
      " -39 -38 -37 -36 -35 -34 -35 -34 -33 -34 -33 -34 -35 -36 -37 -36 -37 -36\n",
      " -35 -36 -37 -36 -37 -36 -35 -34 -33 -34 -35 -36 -35 -36 -37 -38 -37 -36\n",
      " -35 -34 -33 -32 -33 -34 -35 -36 -35 -36 -37 -36 -37 -36 -37 -38 -39 -40\n",
      " -41 -40 -39 -40 -41 -40 -41 -42 -41 -42 -41 -40 -41 -42 -43 -42 -43 -44\n",
      " -43 -42 -41 -42 -41 -40 -39 -40 -41 -40 -39 -38 -39 -38 -39 -38 -37 -36\n",
      " -37 -36 -35 -34 -33 -32 -31 -32 -31 -30 -29 -28 -29 -30 -31 -30 -31 -32\n",
      " -33 -32 -33 -34 -33 -34 -33 -34 -33 -32 -31 -30 -29 -30 -29 -28 -27 -28\n",
      " -29 -28 -29 -30 -29 -28 -29 -30 -31 -32]\n"
     ]
    }
   ],
   "source": [
    "walk = steps.cumsum()\n",
    "print walk"
   ]
  },
  {
   "cell_type": "code",
   "execution_count": 17,
   "metadata": {
    "collapsed": false
   },
   "outputs": [
    {
     "data": {
      "text/plain": [
       "[<matplotlib.lines.Line2D at 0x7f0a8908a710>]"
      ]
     },
     "execution_count": 17,
     "metadata": {},
     "output_type": "execute_result"
    },
    {
     "data": {
      "image/png": "[encoded data removed]",
      "text/plain": [
       "<matplotlib.figure.Figure at 0x7f0a89133350>"
      ]
     },
     "metadata": {},
     "output_type": "display_data"
    }
   ],
   "source": [
    "plt.plot(walk)"
   ]
  },
  {
   "cell_type": "code",
   "execution_count": 36,
   "metadata": {
    "collapsed": false
   },
   "outputs": [
    {
     "data": {
      "text/plain": [
       "504.57050528789659"
      ]
     },
     "execution_count": 36,
     "metadata": {},
     "output_type": "execute_result"
    }
   ],
   "source": [
    "#随机游走模型\n",
    "nwalks = 5000\n",
    "nsteps = 1000\n",
    "draws = np.random.randint(0, 2, size=(nwalks, nsteps))\n",
    "steps = np.where(draws > 0, 1, -1)\n",
    "walks = steps.cumsum(1)\n",
    "hits30 = (np.abs(walks) >= 30).any(1)\n",
    "crossing_times = (np.abs(walks[hits30]) >= 30).argmax(1)\n",
    "crossing_times.mean()"
   ]
  },
  {
   "cell_type": "code",
   "execution_count": null,
   "metadata": {
    "collapsed": true
   },
   "outputs": [],
   "source": []
  }
 ],
 "metadata": {
  "kernelspec": {
   "display_name": "Python 2",
   "language": "python",
   "name": "python2"
  },
  "language_info": {
   "codemirror_mode": {
    "name": "ipython",
    "version": 2
   },
   "file_extension": ".py",
   "mimetype": "text/x-python",
   "name": "python",
   "nbconvert_exporter": "python",
   "pygments_lexer": "ipython2",
   "version": "2.7.6"
  }
 },
 "nbformat": 4,
 "nbformat_minor": 0
}
