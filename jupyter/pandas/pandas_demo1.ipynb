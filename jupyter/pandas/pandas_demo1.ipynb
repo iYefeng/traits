{
 "cells": [
  {
   "cell_type": "code",
   "execution_count": 7,
   "metadata": {
    "collapsed": false
   },
   "outputs": [],
   "source": [
    "%matplotlib inline\n",
    "import numpy as np\n",
    "import pandas as pd\n",
    "import matplotlib.pyplot as plt"
   ]
  },
  {
   "cell_type": "code",
   "execution_count": 1,
   "metadata": {
    "collapsed": false
   },
   "outputs": [
    {
     "name": "stdout",
     "output_type": "stream",
     "text": [
      "1 1:-0.555556 2:0.25 3:-0.864407 4:-0.916667 \r\n",
      "1 1:-0.666667 2:-0.166667 3:-0.864407 4:-0.916667 \r\n",
      "1 1:-0.777778 3:-0.898305 4:-0.916667 \r\n",
      "1 1:-0.833333 2:-0.0833334 3:-0.830508 4:-0.916667 \r\n",
      "1 1:-0.611111 2:0.333333 3:-0.864407 4:-0.916667 \r\n",
      "1 1:-0.388889 2:0.583333 3:-0.762712 4:-0.75 \r\n",
      "1 1:-0.833333 2:0.166667 3:-0.864407 4:-0.833333 \r\n",
      "1 1:-0.611111 2:0.166667 3:-0.830508 4:-0.916667 \r\n",
      "1 1:-0.944444 2:-0.25 3:-0.864407 4:-0.916667 \r\n",
      "1 1:-0.666667 2:-0.0833334 3:-0.830508 4:-1 \r\n"
     ]
    }
   ],
   "source": [
    "!head data/iris.scale"
   ]
  },
  {
   "cell_type": "code",
   "execution_count": null,
   "metadata": {
    "collapsed": true
   },
   "outputs": [],
   "source": []
  }
 ],
 "metadata": {
  "kernelspec": {
   "display_name": "Python 2",
   "language": "python",
   "name": "python2"
  },
  "language_info": {
   "codemirror_mode": {
    "name": "ipython",
    "version": 2
   },
   "file_extension": ".py",
   "mimetype": "text/x-python",
   "name": "python",
   "nbconvert_exporter": "python",
   "pygments_lexer": "ipython2",
   "version": "2.7.6"
  }
 },
 "nbformat": 4,
 "nbformat_minor": 0
}
