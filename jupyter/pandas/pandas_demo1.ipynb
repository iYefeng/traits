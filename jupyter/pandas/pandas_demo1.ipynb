{
 "cells": [
  {
   "cell_type": "code",
   "execution_count": 7,
   "metadata": {
    "collapsed": false
   },
   "outputs": [],
   "source": [
    "%matplotlib inline\n",
    "import numpy as np\n",
    "import pandas as pd\n",
    "import matplotlib.pyplot as plt"
   ]
  },
  {
   "cell_type": "code",
   "execution_count": 8,
   "metadata": {
    "collapsed": false
   },
   "outputs": [
    {
     "name": "stdout",
     "output_type": "stream",
     "text": [
      "3 1:0.333333 2:-0.0833334 3:0.559322 4:0.916667 \r\n",
      "3 1:0.444444 2:-0.0833334 3:0.38983 4:0.833333 \r\n",
      "3 1:-0.166667 2:-0.416667 3:0.38983 4:0.5 \r\n",
      "3 1:0.388889 3:0.661017 4:0.833333 \r\n",
      "3 1:0.333333 2:0.0833333 3:0.59322 4:1 \r\n",
      "3 1:0.333333 2:-0.166667 3:0.423729 4:0.833333 \r\n",
      "3 1:0.111111 2:-0.583333 3:0.355932 4:0.5 \r\n",
      "3 1:0.222222 2:-0.166667 3:0.423729 4:0.583333 \r\n",
      "3 1:0.0555554 2:0.166667 3:0.491525 4:0.833333 \r\n",
      "3 1:-0.111111 2:-0.166667 3:0.38983 4:0.416667 \r\n"
     ]
    }
   ],
   "source": [
    "!tail data/iris.scale"
   ]
  },
  {
   "cell_type": "code",
   "execution_count": null,
   "metadata": {
    "collapsed": true
   },
   "outputs": [],
   "source": []
  }
 ],
 "metadata": {
  "kernelspec": {
   "display_name": "Python 2",
   "language": "python",
   "name": "python2"
  },
  "language_info": {
   "codemirror_mode": {
    "name": "ipython",
    "version": 2
   },
   "file_extension": ".py",
   "mimetype": "text/x-python",
   "name": "python",
   "nbconvert_exporter": "python",
   "pygments_lexer": "ipython2",
   "version": "2.7.6"
  }
 },
 "nbformat": 4,
 "nbformat_minor": 0
}
